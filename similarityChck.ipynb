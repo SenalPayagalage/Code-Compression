{
 "cells": [
  {
   "cell_type": "code",
   "execution_count": 1,
   "metadata": {},
   "outputs": [],
   "source": [
    "with open (\"original.txt\") as f1:\n",
    "    lines1=f1.readlines()\n",
    "\n",
    "with open (\"dout.txt\") as f2:\n",
    "    lines2=f2.readlines()\n",
    "\n",
    "for i in range(len(lines1)):\n",
    "    if lines1[i] != lines2[i]:\n",
    "        print(lines1[i])\n",
    "        print(lines2[i])\n",
    "        print(i)\n",
    "        # break\n"
   ]
  }
 ],
 "metadata": {
  "kernelspec": {
   "display_name": "Python 3.7.8 ('cv')",
   "language": "python",
   "name": "python3"
  },
  "language_info": {
   "codemirror_mode": {
    "name": "ipython",
    "version": 3
   },
   "file_extension": ".py",
   "mimetype": "text/x-python",
   "name": "python",
   "nbconvert_exporter": "python",
   "pygments_lexer": "ipython3",
   "version": "3.7.8"
  },
  "orig_nbformat": 4,
  "vscode": {
   "interpreter": {
    "hash": "cdb410622f17e4f27827aa7712b46708a3c8b4853a405e1385f4e052860fd4e5"
   }
  }
 },
 "nbformat": 4,
 "nbformat_minor": 2
}
